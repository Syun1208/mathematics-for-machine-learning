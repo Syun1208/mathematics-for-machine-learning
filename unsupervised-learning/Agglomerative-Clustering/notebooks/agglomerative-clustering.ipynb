{
 "cells": [
  {
   "cell_type": "code",
   "execution_count": 10,
   "metadata": {},
   "outputs": [],
   "source": [
    "import numpy as np\n",
    "import pandas as pd\n",
    "from sklearn.datasets import load_iris\n",
    "from sklearn.metrics import silhouette_score, adjusted_rand_score\n",
    "from scipy.cluster import hierarchy\n",
    "import matplotlib.pyplot as plt"
   ]
  },
  {
   "cell_type": "code",
   "execution_count": 3,
   "metadata": {},
   "outputs": [],
   "source": [
    "def euclidean_distance(vi, vj):\n",
    "    return np.sqrt(np.sum((vi - vj) ** 2))"
   ]
  },
  {
   "cell_type": "code",
   "execution_count": 4,
   "metadata": {},
   "outputs": [],
   "source": [
    "class ClusterMeasurements(object):\n",
    "    \n",
    "    def single_link(ci, cj):\n",
    "        return min([euclidean_distance(vi, vj) for vi in ci for vj in cj])\n",
    "\n",
    "\n",
    "    def complete_link(ci, cj):\n",
    "        return max([euclidean_distance(vi, vj) for vi in ci for vj in cj])\n",
    "\n",
    "\n",
    "    def average_link(ci, cj):\n",
    "        distances = [euclidean_distance(vi, vj) for vi in ci for vj in cj]\n",
    "        return sum(distances) / len(distances)\n"
   ]
  },
  {
   "cell_type": "code",
   "execution_count": 48,
   "metadata": {},
   "outputs": [],
   "source": [
    "class AgglomerativeClustering:\n",
    "    \n",
    "    def __init__(self, K, measure=ClusterMeasurements.single_link):\n",
    "        self.K = K\n",
    "        self.measure = measure\n",
    "\n",
    "    def init_clusters(self):\n",
    "        return {data_id: [data_point] for data_id, data_point in enumerate(self.data)}\n",
    "\n",
    "    def find_closest_clusters(self):\n",
    "        min_dist = np.inf\n",
    "        closest_clusters = None\n",
    "\n",
    "        clusters_ids = list(self.clusters.keys())\n",
    "\n",
    "        for i, cluster_i in enumerate(clusters_ids[:-1]):\n",
    "            for j, cluster_j in enumerate(clusters_ids[i+1:]):\n",
    "                dist = self.measure(self.clusters[cluster_i], self.clusters[cluster_j])\n",
    "                if dist < min_dist:\n",
    "                    min_dist, closest_clusters = dist, (cluster_i, cluster_j)\n",
    "                    \n",
    "        return closest_clusters\n",
    "\n",
    "    def merge_and_form_new_clusters(self, ci_id, cj_id):\n",
    "        new_clusters = {0: self.clusters[ci_id] + self.clusters[cj_id]}\n",
    "        for cluster_id in self.clusters.keys():\n",
    "            if (cluster_id == ci_id) | (cluster_id == cj_id):\n",
    "                continue\n",
    "            new_clusters[len(new_clusters.keys())] = self.clusters[cluster_id]\n",
    "        return new_clusters\n",
    "\n",
    "\n",
    "    def predict(self, X):\n",
    "        \n",
    "        self.data = X\n",
    "        self.n_samples, self.n_features = self.data.shape\n",
    "        \n",
    "        self.clusters = self.init_clusters()\n",
    "        \n",
    "        while len(self.clusters.keys()) > self.K:\n",
    "            closest_clusters = self.find_closest_clusters()\n",
    "            self.clusters = self.merge_and_form_new_clusters(*closest_clusters)\n",
    "            \n",
    "        return self.clusters"
   ]
  },
  {
   "cell_type": "code",
   "execution_count": 49,
   "metadata": {},
   "outputs": [],
   "source": [
    "from sklearn.model_selection import train_test_split\n",
    "\n",
    "data = load_iris()\n",
    "X_train, X_test, y_train, y_test = train_test_split(data.data, data.target, test_size=0.2)"
   ]
  },
  {
   "cell_type": "code",
   "execution_count": 69,
   "metadata": {},
   "outputs": [],
   "source": [
    "ac = AgglomerativeClustering(K=3, measure=ClusterMeasurements.complete_link)\n",
    "predict = ac.predict(X_train)"
   ]
  },
  {
   "cell_type": "code",
   "execution_count": null,
   "metadata": {},
   "outputs": [],
   "source": []
  }
 ],
 "metadata": {
  "kernelspec": {
   "display_name": "mlops",
   "language": "python",
   "name": "python3"
  },
  "language_info": {
   "codemirror_mode": {
    "name": "ipython",
    "version": 3
   },
   "file_extension": ".py",
   "mimetype": "text/x-python",
   "name": "python",
   "nbconvert_exporter": "python",
   "pygments_lexer": "ipython3",
   "version": "3.8.2"
  }
 },
 "nbformat": 4,
 "nbformat_minor": 2
}
